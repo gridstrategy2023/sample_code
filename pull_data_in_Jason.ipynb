{
 "cells": [
  {
   "cell_type": "markdown",
   "id": "7eec7299",
   "metadata": {},
   "source": [
    "#### Read all the Jason files in a AWS s3 directory generated from production"
   ]
  },
  {
   "cell_type": "code",
   "execution_count": null,
   "id": "a231f467",
   "metadata": {},
   "outputs": [],
   "source": [
    "import pandas as pd\n",
    "import numpy as np\n",
    "import json\n",
    "import boto3"
   ]
  },
  {
   "cell_type": "code",
   "execution_count": 7,
   "id": "351edb16",
   "metadata": {},
   "outputs": [],
   "source": [
    "BUCKET_NAME=\"sf-use1-training-data\"\n",
    "PREFIX=\"clm/data/\""
   ]
  },
  {
   "cell_type": "code",
   "execution_count": 8,
   "id": "1b97c62f",
   "metadata": {},
   "outputs": [],
   "source": [
    "# Setting up access the AWS s3\n",
    "s3=boto3.client(\"s3\")\n",
    "response=s3.list_objects_v2(Bucket=BUCKET_NAME,Prefix=PREFIX)"
   ]
  },
  {
   "cell_type": "code",
   "execution_count": 9,
   "id": "6389f265",
   "metadata": {},
   "outputs": [],
   "source": [
    "# Pull the all file names in the above BUCKET/path\n",
    "file_names=[obj[\"Key\"] for obj in response.get(\"Contents\", [])]"
   ]
  },
  {
   "cell_type": "code",
   "execution_count": 1,
   "id": "4c758614",
   "metadata": {},
   "outputs": [],
   "source": [
    "# remove the first element in the filename list becaus the file is not relevant\n",
    "first_val = file_names.pop(0) \n",
    "file_names"
   ]
  },
  {
   "cell_type": "markdown",
   "id": "82cc91ab",
   "metadata": {},
   "source": [
    "#### Flatten each Jason file into tabular data and then concanate tabular data into one table "
   ]
  },
  {
   "cell_type": "code",
   "execution_count": null,
   "id": "52910f4b",
   "metadata": {},
   "outputs": [],
   "source": [
    "#Generate file list in full s3 path and filename\n",
    "new_list=[]\n",
    "for file in file_names:\n",
    "    new=\"s3://\"+BUCKET_NAME+\"/\"+file\n",
    "    new_list.append(new)"
   ]
  },
  {
   "cell_type": "code",
   "execution_count": 2,
   "id": "167bdf41",
   "metadata": {},
   "outputs": [],
   "source": [
    "df_init = pd.DataFrame()\n",
    "\n",
    "# The front and end substrings to be removed from the original file folder/name string\n",
    "str_remove = \"s3://sf-m/lsr_data/lsr_\"\n",
    "str_remove2=\".log\"\n",
    "\n",
    "for new in new_list:\n",
    "    try:      \n",
    "        df_output=pd.read_json(new, lines=True, storage_options={\"anon\":False})\n",
    "        df_log=df_output['output'].apply(pd.Series)\n",
    "        df_log=df_log['prediction'].apply(pd.Series)       \n",
    "        new_string = new.replace(str_remove, \"\")\n",
    "        new_string = new_string.replace(str_remove2, \"\")\n",
    "        #print('new_string', new_string)\n",
    "        df_log['log_date']=new_string\n",
    "        df_init = pd.concat([df_init, df_log], axis=0)\n",
    "    except:\n",
    "        print(\"No output data exists at {}\".format(new))\n",
    "        pass\n",
    "  \n",
    "df_init.info()"
   ]
  },
  {
   "cell_type": "code",
   "execution_count": 3,
   "id": "6b4cf7c6",
   "metadata": {},
   "outputs": [],
   "source": [
    "df_init.head()"
   ]
  },
  {
   "cell_type": "markdown",
   "id": "8f16f1ab",
   "metadata": {},
   "source": [
    "#### Save the data "
   ]
  },
  {
   "cell_type": "code",
   "execution_count": 47,
   "id": "8cccceba",
   "metadata": {},
   "outputs": [],
   "source": [
    "pd.to_pickle(df_init, 's3://sf-m/flatten_prediction.pkl')df_init[['clm_id','ptl_id','col_id','log_date']].to_csv('s3://sf-m/target.csv', index=False)\n",
    "df_init[['clm_id','log_date']].to_csv('s3://sf-m/target.csv', index=False)"
   ]
  },
  {
   "cell_type": "code",
   "execution_count": 50,
   "id": "3a920020",
   "metadata": {},
   "outputs": [],
   "source": []
  }
 ],
 "metadata": {
  "kernelspec": {
   "display_name": "conda_python3",
   "language": "python",
   "name": "conda_python3"
  },
  "language_info": {
   "codemirror_mode": {
    "name": "ipython",
    "version": 3
   },
   "file_extension": ".py",
   "mimetype": "text/x-python",
   "name": "python",
   "nbconvert_exporter": "python",
   "pygments_lexer": "ipython3",
   "version": "3.10.16"
  }
 },
 "nbformat": 4,
 "nbformat_minor": 5
}
